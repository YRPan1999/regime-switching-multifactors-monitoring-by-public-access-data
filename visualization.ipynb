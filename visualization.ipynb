{
 "cells": [
  {
   "cell_type": "code",
   "execution_count": 2,
   "metadata": {},
   "outputs": [
    {
     "name": "stdout",
     "output_type": "stream",
     "text": [
      "finish importing\n"
     ]
    }
   ],
   "source": [
    "# Setup and Imports\n",
    "\n",
    "import pandas as pd\n",
    "import matplotlib.pyplot as plt\n",
    "# Import custom modules\n",
    "import data_download\n",
    "import data_cleaning\n",
    "import data_analysis"
   ]
  },
  {
   "cell_type": "code",
   "execution_count": 3,
   "metadata": {},
   "outputs": [],
   "source": [
    "# Data Download\n",
    "\n",
    "data = data_download.download_data()\n",
    "# Optional: data_download.save_to_csv(data, 'downloaded_data.csv')"
   ]
  },
  {
   "cell_type": "code",
   "execution_count": 4,
   "metadata": {},
   "outputs": [],
   "source": [
    "# Data Cleaning\n",
    "\n",
    "# If data is saved to CSV\n",
    "# data = data_cleaning.read_data('downloaded_data.csv')\n",
    "cleaned_data = data_cleaning.clean_data(data)"
   ]
  },
  {
   "cell_type": "code",
   "execution_count": 6,
   "metadata": {},
   "outputs": [],
   "source": [
    "# Data Analysis\n",
    "\n",
    "analysis_results = data_analysis.analyze_data(cleaned_data)"
   ]
  },
  {
   "cell_type": "code",
   "execution_count": 7,
   "metadata": {},
   "outputs": [],
   "source": [
    "# Data Visualization\n",
    "\n",
    "data_analysis.generate_figures(analysis_results)\n",
    "# Additional plotting code can go here\n",
    "plt.show()  # Make sure to call plt.show() to display the plots in the notebook"
   ]
  },
  {
   "cell_type": "code",
   "execution_count": 24,
   "metadata": {},
   "outputs": [
    {
     "ename": "AttributeError",
     "evalue": "'Ticker' object has no attribute 'financialData'",
     "output_type": "error",
     "traceback": [
      "\u001b[0;31m---------------------------------------------------------------------------\u001b[0m",
      "\u001b[0;31mAttributeError\u001b[0m                            Traceback (most recent call last)",
      "\u001b[1;32m/Users/youranpan/Desktop/Finovax/regime-switching-multifactors-monitoring-by-public-access-data/visualization.ipynb Cell 6\u001b[0m line \u001b[0;36m<cell line: 16>\u001b[0;34m()\u001b[0m\n\u001b[1;32m     <a href='vscode-notebook-cell:/Users/youranpan/Desktop/Finovax/regime-switching-multifactors-monitoring-by-public-access-data/visualization.ipynb#W5sZmlsZQ%3D%3D?line=12'>13</a>\u001b[0m data_top_financials \u001b[39m=\u001b[39m financials\u001b[39m.\u001b[39mhead()\n\u001b[1;32m     <a href='vscode-notebook-cell:/Users/youranpan/Desktop/Finovax/regime-switching-multifactors-monitoring-by-public-access-data/visualization.ipynb#W5sZmlsZQ%3D%3D?line=13'>14</a>\u001b[0m \u001b[39m# print(data_top_financials)\u001b[39;00m\n\u001b[0;32m---> <a href='vscode-notebook-cell:/Users/youranpan/Desktop/Finovax/regime-switching-multifactors-monitoring-by-public-access-data/visualization.ipynb#W5sZmlsZQ%3D%3D?line=15'>16</a>\u001b[0m financialData \u001b[39m=\u001b[39m stock\u001b[39m.\u001b[39;49mfinancialData\n\u001b[1;32m     <a href='vscode-notebook-cell:/Users/youranpan/Desktop/Finovax/regime-switching-multifactors-monitoring-by-public-access-data/visualization.ipynb#W5sZmlsZQ%3D%3D?line=16'>17</a>\u001b[0m data_top_financialData \u001b[39m=\u001b[39m financialData\u001b[39m.\u001b[39mhead()\n\u001b[1;32m     <a href='vscode-notebook-cell:/Users/youranpan/Desktop/Finovax/regime-switching-multifactors-monitoring-by-public-access-data/visualization.ipynb#W5sZmlsZQ%3D%3D?line=17'>18</a>\u001b[0m \u001b[39mprint\u001b[39m(data_top_financialData)\n",
      "\u001b[0;31mAttributeError\u001b[0m: 'Ticker' object has no attribute 'financialData'"
     ]
    }
   ],
   "source": [
    "import yfinance as yf\n",
    "\n",
    "# Replace 'AAPL' with the ticker symbol of the company you're interested in\n",
    "ticker = 'AAPL'\n",
    "stock = yf.Ticker(ticker)\n",
    "\n",
    "# Get balance sheet data\n",
    "balance_sheet = stock.balance_sheet\n",
    "data_top_balance_sheet = balance_sheet.head()\n",
    "# print(data_top_balance_sheet)\n",
    "\n",
    "financials = stock.financials\n",
    "data_top_financials = financials.head()\n",
    "# print(data_top_financials)\n",
    "\n",
    "financialData = stock.financialData\n",
    "data_top_financialData = financialData.head()\n",
    "print(data_top_financialData)\n",
    "\n",
    "\n",
    "# # Extract total liabilities and total equity\n",
    "# total_liabilities = balance_sheet.loc['Total Liab'][0]\n",
    "# total_equity = balance_sheet.loc['Total Stockholder Equity'][0]\n",
    "\n",
    "# # Calculate the Debt-to-Equity Ratio\n",
    "# de_ratio = total_liabilities / total_equity\n",
    "# print(f\"The Debt-to-Equity Ratio for {ticker} is: {de_ratio:.2f}\")"
   ]
  },
  {
   "cell_type": "code",
   "execution_count": 23,
   "metadata": {},
   "outputs": [
    {
     "data": {
      "text/plain": [
       "['currency',\n",
       " 'dayHigh',\n",
       " 'dayLow',\n",
       " 'exchange',\n",
       " 'fiftyDayAverage',\n",
       " 'lastPrice',\n",
       " 'lastVolume',\n",
       " 'marketCap',\n",
       " 'open',\n",
       " 'previousClose',\n",
       " 'quoteType',\n",
       " 'regularMarketPreviousClose',\n",
       " 'shares',\n",
       " 'tenDayAverageVolume',\n",
       " 'threeMonthAverageVolume',\n",
       " 'timezone',\n",
       " 'twoHundredDayAverage',\n",
       " 'yearChange',\n",
       " 'yearHigh',\n",
       " 'yearLow']"
      ]
     },
     "execution_count": 23,
     "metadata": {},
     "output_type": "execute_result"
    }
   ],
   "source": [
    "import yfinance as yf\n",
    "ticker = yf.Ticker('AAPL')\n",
    "stock_info = ticker.fast_info\n",
    "stock_info.keys()"
   ]
  },
  {
   "cell_type": "code",
   "execution_count": 25,
   "metadata": {},
   "outputs": [
    {
     "name": "stdout",
     "output_type": "stream",
     "text": [
      "The Operating Margin for AAPL is: 29.82%\n"
     ]
    }
   ],
   "source": [
    "# operation margin\n",
    "\n",
    "import yfinance as yf\n",
    "\n",
    "# Replace 'AAPL' with the ticker symbol of the company you're interested in\n",
    "ticker_symbol = 'AAPL'\n",
    "\n",
    "# Fetch the company's data\n",
    "company = yf.Ticker(ticker_symbol)\n",
    "\n",
    "# Fetch the income statement\n",
    "income_statement = company.financials\n",
    "\n",
    "# Extract operating income and revenue\n",
    "operating_income = income_statement.loc['Operating Income',:].iloc[0]  # Most recent year\n",
    "revenue = income_statement.loc['Total Revenue',:].iloc[0]  # Most recent year\n",
    "\n",
    "# Calculate operating margin\n",
    "operating_margin = (operating_income / revenue) * 100\n",
    "\n",
    "print(f\"The Operating Margin for {ticker_symbol} is: {operating_margin:.2f}%\")\n"
   ]
  },
  {
   "cell_type": "code",
   "execution_count": 31,
   "metadata": {},
   "outputs": [
    {
     "name": "stdout",
     "output_type": "stream",
     "text": [
      "                            2023-09-30      2022-09-30      2021-09-30  \\\n",
      "Treasury Shares Number             0.0             NaN             NaN   \n",
      "Ordinary Shares Number   15550061000.0   15943425000.0   16426786000.0   \n",
      "Share Issued             15550061000.0   15943425000.0   16426786000.0   \n",
      "Net Debt                 81123000000.0   96423000000.0   89779000000.0   \n",
      "Total Debt              111088000000.0  120069000000.0  124719000000.0   \n",
      "\n",
      "                            2020-09-30  \n",
      "Treasury Shares Number             NaN  \n",
      "Ordinary Shares Number   16976763000.0  \n",
      "Share Issued             16976763000.0  \n",
      "Net Debt                 74420000000.0  \n",
      "Total Debt              112436000000.0  \n"
     ]
    },
    {
     "ename": "KeyError",
     "evalue": "'Total Stockholder Equity'",
     "output_type": "error",
     "traceback": [
      "\u001b[0;31m---------------------------------------------------------------------------\u001b[0m",
      "\u001b[0;31mKeyError\u001b[0m                                  Traceback (most recent call last)",
      "File \u001b[0;32m~/opt/anaconda3/lib/python3.9/site-packages/pandas/core/indexes/base.py:3621\u001b[0m, in \u001b[0;36mIndex.get_loc\u001b[0;34m(self, key, method, tolerance)\u001b[0m\n\u001b[1;32m   3620\u001b[0m \u001b[39mtry\u001b[39;00m:\n\u001b[0;32m-> 3621\u001b[0m     \u001b[39mreturn\u001b[39;00m \u001b[39mself\u001b[39;49m\u001b[39m.\u001b[39;49m_engine\u001b[39m.\u001b[39;49mget_loc(casted_key)\n\u001b[1;32m   3622\u001b[0m \u001b[39mexcept\u001b[39;00m \u001b[39mKeyError\u001b[39;00m \u001b[39mas\u001b[39;00m err:\n",
      "File \u001b[0;32m~/opt/anaconda3/lib/python3.9/site-packages/pandas/_libs/index.pyx:136\u001b[0m, in \u001b[0;36mpandas._libs.index.IndexEngine.get_loc\u001b[0;34m()\u001b[0m\n",
      "File \u001b[0;32m~/opt/anaconda3/lib/python3.9/site-packages/pandas/_libs/index.pyx:163\u001b[0m, in \u001b[0;36mpandas._libs.index.IndexEngine.get_loc\u001b[0;34m()\u001b[0m\n",
      "File \u001b[0;32mpandas/_libs/hashtable_class_helper.pxi:5198\u001b[0m, in \u001b[0;36mpandas._libs.hashtable.PyObjectHashTable.get_item\u001b[0;34m()\u001b[0m\n",
      "File \u001b[0;32mpandas/_libs/hashtable_class_helper.pxi:5206\u001b[0m, in \u001b[0;36mpandas._libs.hashtable.PyObjectHashTable.get_item\u001b[0;34m()\u001b[0m\n",
      "\u001b[0;31mKeyError\u001b[0m: 'Total Stockholder Equity'",
      "\nThe above exception was the direct cause of the following exception:\n",
      "\u001b[0;31mKeyError\u001b[0m                                  Traceback (most recent call last)",
      "\u001b[1;32m/Users/youranpan/Desktop/Finovax/regime-switching-multifactors-monitoring-by-public-access-data/visualization.ipynb Cell 9\u001b[0m line \u001b[0;36m<cell line: 19>\u001b[0;34m()\u001b[0m\n\u001b[1;32m     <a href='vscode-notebook-cell:/Users/youranpan/Desktop/Finovax/regime-switching-multifactors-monitoring-by-public-access-data/visualization.ipynb#X12sZmlsZQ%3D%3D?line=15'>16</a>\u001b[0m net_income \u001b[39m=\u001b[39m financials\u001b[39m.\u001b[39mloc[\u001b[39m'\u001b[39m\u001b[39mNet Income\u001b[39m\u001b[39m'\u001b[39m]\u001b[39m.\u001b[39miloc[\u001b[39m0\u001b[39m]\n\u001b[1;32m     <a href='vscode-notebook-cell:/Users/youranpan/Desktop/Finovax/regime-switching-multifactors-monitoring-by-public-access-data/visualization.ipynb#X12sZmlsZQ%3D%3D?line=17'>18</a>\u001b[0m \u001b[39m# Shareholder Equity (from the last annual balance sheet)\u001b[39;00m\n\u001b[0;32m---> <a href='vscode-notebook-cell:/Users/youranpan/Desktop/Finovax/regime-switching-multifactors-monitoring-by-public-access-data/visualization.ipynb#X12sZmlsZQ%3D%3D?line=18'>19</a>\u001b[0m shareholder_equity \u001b[39m=\u001b[39m balance_sheet\u001b[39m.\u001b[39;49mloc[\u001b[39m'\u001b[39;49m\u001b[39mTotal Stockholder Equity\u001b[39;49m\u001b[39m'\u001b[39;49m]\u001b[39m.\u001b[39miloc[\u001b[39m0\u001b[39m]\n\u001b[1;32m     <a href='vscode-notebook-cell:/Users/youranpan/Desktop/Finovax/regime-switching-multifactors-monitoring-by-public-access-data/visualization.ipynb#X12sZmlsZQ%3D%3D?line=20'>21</a>\u001b[0m \u001b[39m# Calculate ROE\u001b[39;00m\n\u001b[1;32m     <a href='vscode-notebook-cell:/Users/youranpan/Desktop/Finovax/regime-switching-multifactors-monitoring-by-public-access-data/visualization.ipynb#X12sZmlsZQ%3D%3D?line=21'>22</a>\u001b[0m roe \u001b[39m=\u001b[39m (net_income \u001b[39m/\u001b[39m shareholder_equity) \u001b[39m*\u001b[39m \u001b[39m100\u001b[39m  \u001b[39m# Convert to percentage\u001b[39;00m\n",
      "File \u001b[0;32m~/opt/anaconda3/lib/python3.9/site-packages/pandas/core/indexing.py:967\u001b[0m, in \u001b[0;36m_LocationIndexer.__getitem__\u001b[0;34m(self, key)\u001b[0m\n\u001b[1;32m    964\u001b[0m axis \u001b[39m=\u001b[39m \u001b[39mself\u001b[39m\u001b[39m.\u001b[39maxis \u001b[39mor\u001b[39;00m \u001b[39m0\u001b[39m\n\u001b[1;32m    966\u001b[0m maybe_callable \u001b[39m=\u001b[39m com\u001b[39m.\u001b[39mapply_if_callable(key, \u001b[39mself\u001b[39m\u001b[39m.\u001b[39mobj)\n\u001b[0;32m--> 967\u001b[0m \u001b[39mreturn\u001b[39;00m \u001b[39mself\u001b[39;49m\u001b[39m.\u001b[39;49m_getitem_axis(maybe_callable, axis\u001b[39m=\u001b[39;49maxis)\n",
      "File \u001b[0;32m~/opt/anaconda3/lib/python3.9/site-packages/pandas/core/indexing.py:1202\u001b[0m, in \u001b[0;36m_LocIndexer._getitem_axis\u001b[0;34m(self, key, axis)\u001b[0m\n\u001b[1;32m   1200\u001b[0m \u001b[39m# fall thru to straight lookup\u001b[39;00m\n\u001b[1;32m   1201\u001b[0m \u001b[39mself\u001b[39m\u001b[39m.\u001b[39m_validate_key(key, axis)\n\u001b[0;32m-> 1202\u001b[0m \u001b[39mreturn\u001b[39;00m \u001b[39mself\u001b[39;49m\u001b[39m.\u001b[39;49m_get_label(key, axis\u001b[39m=\u001b[39;49maxis)\n",
      "File \u001b[0;32m~/opt/anaconda3/lib/python3.9/site-packages/pandas/core/indexing.py:1153\u001b[0m, in \u001b[0;36m_LocIndexer._get_label\u001b[0;34m(self, label, axis)\u001b[0m\n\u001b[1;32m   1151\u001b[0m \u001b[39mdef\u001b[39;00m \u001b[39m_get_label\u001b[39m(\u001b[39mself\u001b[39m, label, axis: \u001b[39mint\u001b[39m):\n\u001b[1;32m   1152\u001b[0m     \u001b[39m# GH#5667 this will fail if the label is not present in the axis.\u001b[39;00m\n\u001b[0;32m-> 1153\u001b[0m     \u001b[39mreturn\u001b[39;00m \u001b[39mself\u001b[39;49m\u001b[39m.\u001b[39;49mobj\u001b[39m.\u001b[39;49mxs(label, axis\u001b[39m=\u001b[39;49maxis)\n",
      "File \u001b[0;32m~/opt/anaconda3/lib/python3.9/site-packages/pandas/core/generic.py:3864\u001b[0m, in \u001b[0;36mNDFrame.xs\u001b[0;34m(self, key, axis, level, drop_level)\u001b[0m\n\u001b[1;32m   3862\u001b[0m             new_index \u001b[39m=\u001b[39m index[loc]\n\u001b[1;32m   3863\u001b[0m \u001b[39melse\u001b[39;00m:\n\u001b[0;32m-> 3864\u001b[0m     loc \u001b[39m=\u001b[39m index\u001b[39m.\u001b[39;49mget_loc(key)\n\u001b[1;32m   3866\u001b[0m     \u001b[39mif\u001b[39;00m \u001b[39misinstance\u001b[39m(loc, np\u001b[39m.\u001b[39mndarray):\n\u001b[1;32m   3867\u001b[0m         \u001b[39mif\u001b[39;00m loc\u001b[39m.\u001b[39mdtype \u001b[39m==\u001b[39m np\u001b[39m.\u001b[39mbool_:\n",
      "File \u001b[0;32m~/opt/anaconda3/lib/python3.9/site-packages/pandas/core/indexes/base.py:3623\u001b[0m, in \u001b[0;36mIndex.get_loc\u001b[0;34m(self, key, method, tolerance)\u001b[0m\n\u001b[1;32m   3621\u001b[0m     \u001b[39mreturn\u001b[39;00m \u001b[39mself\u001b[39m\u001b[39m.\u001b[39m_engine\u001b[39m.\u001b[39mget_loc(casted_key)\n\u001b[1;32m   3622\u001b[0m \u001b[39mexcept\u001b[39;00m \u001b[39mKeyError\u001b[39;00m \u001b[39mas\u001b[39;00m err:\n\u001b[0;32m-> 3623\u001b[0m     \u001b[39mraise\u001b[39;00m \u001b[39mKeyError\u001b[39;00m(key) \u001b[39mfrom\u001b[39;00m \u001b[39merr\u001b[39;00m\n\u001b[1;32m   3624\u001b[0m \u001b[39mexcept\u001b[39;00m \u001b[39mTypeError\u001b[39;00m:\n\u001b[1;32m   3625\u001b[0m     \u001b[39m# If we have a listlike key, _check_indexing_error will raise\u001b[39;00m\n\u001b[1;32m   3626\u001b[0m     \u001b[39m#  InvalidIndexError. Otherwise we fall through and re-raise\u001b[39;00m\n\u001b[1;32m   3627\u001b[0m     \u001b[39m#  the TypeError.\u001b[39;00m\n\u001b[1;32m   3628\u001b[0m     \u001b[39mself\u001b[39m\u001b[39m.\u001b[39m_check_indexing_error(key)\n",
      "\u001b[0;31mKeyError\u001b[0m: 'Total Stockholder Equity'"
     ]
    }
   ],
   "source": [
    "import yfinance as yf\n",
    "\n",
    "# Replace 'AAPL' with the ticker of the company you're interested in\n",
    "ticker_symbol = 'AAPL'\n",
    "\n",
    "# Fetch the company data\n",
    "company = yf.Ticker(ticker_symbol)\n",
    "\n",
    "# Fetch the annual financials\n",
    "financials = company.financials\n",
    "balance_sheet = company.balance_sheet\n",
    "\n",
    "print(balance_sheet.head)\n",
    "\n",
    "# Net Income (from the last annual financials)\n",
    "net_income = financials.loc['Net Income'].iloc[0]\n",
    "\n",
    "# Shareholder Equity (from the last annual balance sheet)\n",
    "shareholder_equity = balance_sheet.loc['Total Stockholder Equity'].iloc[0]\n",
    "\n",
    "# Calculate ROE\n",
    "roe = (net_income / shareholder_equity) * 100  # Convert to percentage\n",
    "\n",
    "print(f\"Return on Equity (ROE) for {ticker_symbol}: {roe:.2f}%\")\n"
   ]
  },
  {
   "cell_type": "code",
   "execution_count": null,
   "metadata": {},
   "outputs": [],
   "source": []
  }
 ],
 "metadata": {
  "kernelspec": {
   "display_name": "Python 3",
   "language": "python",
   "name": "python3"
  },
  "language_info": {
   "codemirror_mode": {
    "name": "ipython",
    "version": 3
   },
   "file_extension": ".py",
   "mimetype": "text/x-python",
   "name": "python",
   "nbconvert_exporter": "python",
   "pygments_lexer": "ipython3",
   "version": "3.9.12"
  }
 },
 "nbformat": 4,
 "nbformat_minor": 2
}
