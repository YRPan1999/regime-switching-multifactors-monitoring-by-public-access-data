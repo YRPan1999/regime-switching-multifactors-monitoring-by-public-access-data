{
 "cells": [
  {
   "cell_type": "code",
   "execution_count": 1,
   "metadata": {},
   "outputs": [],
   "source": [
    "# Setup and Imports\n",
    "\n",
    "import pandas as pd\n",
    "import matplotlib.pyplot as plt\n",
    "# Import custom modules\n",
    "import data_loading\n",
    "import data_cleaning\n",
    "import data_analysis"
   ]
  },
  {
   "cell_type": "code",
   "execution_count": 21,
   "metadata": {},
   "outputs": [
    {
     "name": "stdout",
     "output_type": "stream",
     "text": [
      "None\n",
      "None\n"
     ]
    }
   ],
   "source": [
    "def load_api_keys(filepath='config.txt'):\n",
    "    api_keys = {}\n",
    "    with open(filepath, 'r') as file:\n",
    "        for line in file:\n",
    "            if '=' in line:\n",
    "                key, value = line.strip().split('=', 1)\n",
    "                api_keys[key] = value\n",
    "    return api_keys\n",
    "\n",
    "# Load the API keys\n",
    "api_keys = load_api_keys()\n",
    "\n",
    "# Access the API keys\n",
    "BEA_API_KEY = api_keys.get('BEA_API_KEY')\n",
    "BLS_API_KEY = api_keys.get('BLS_API_KEY')"
   ]
  },
  {
   "cell_type": "code",
   "execution_count": 15,
   "metadata": {},
   "outputs": [
    {
     "name": "stdout",
     "output_type": "stream",
     "text": [
      "  TableName SeriesCode LineNumber                    LineDescription  \\\n",
      "0    T10101     A191RL          1             Gross domestic product   \n",
      "1    T10101     A191RL          1             Gross domestic product   \n",
      "2    T10101     A191RL          1             Gross domestic product   \n",
      "3    T10101     A191RL          1             Gross domestic product   \n",
      "4    T10101     DPCERL          2  Personal consumption expenditures   \n",
      "\n",
      "  TimePeriod            METRIC_NAME                      CL_UNIT UNIT_MULT  \\\n",
      "0     2023Q1  Fisher Quantity Index  Percent change, annual rate         0   \n",
      "1     2023Q2  Fisher Quantity Index  Percent change, annual rate         0   \n",
      "2     2023Q3  Fisher Quantity Index  Percent change, annual rate         0   \n",
      "3     2023Q4  Fisher Quantity Index  Percent change, annual rate         0   \n",
      "4     2023Q1  Fisher Quantity Index  Percent change, annual rate         0   \n",
      "\n",
      "  DataValue NoteRef  \n",
      "0       2.2  T10101  \n",
      "1       2.1  T10101  \n",
      "2       4.9  T10101  \n",
      "3       3.2  T10101  \n",
      "4       3.8  T10101  \n"
     ]
    }
   ],
   "source": [
    "from data_loading import BEAClient\n",
    "\n",
    "# Initialize the BEA client with API key\n",
    "bea_client = BEAClient(api_key=BEA_API_KEY)\n",
    "\n",
    "# Request GDP data\n",
    "gdp_data = bea_client.get_gdp_data(year=\"2023\")  # Specify the year or other parameters as needed\n",
    "\n",
    "# get_gdp_data returns a pandas DataFrame\n",
    "print(gdp_data.head())"
   ]
  },
  {
   "cell_type": "code",
   "execution_count": null,
   "metadata": {},
   "outputs": [],
   "source": [
    "# Data Download\n",
    "\n",
    "data = data_download.download_data()\n",
    "# Optional: data_download.save_to_csv(data, 'downloaded_data.csv')"
   ]
  },
  {
   "cell_type": "code",
   "execution_count": null,
   "metadata": {},
   "outputs": [],
   "source": [
    "# Data Cleaning\n",
    "\n",
    "# If data is saved to CSV\n",
    "# data = data_cleaning.read_data('downloaded_data.csv')\n",
    "cleaned_data = data_cleaning.clean_data(data)"
   ]
  },
  {
   "cell_type": "code",
   "execution_count": null,
   "metadata": {},
   "outputs": [],
   "source": [
    "# Data Analysis\n",
    "\n",
    "analysis_results = data_analysis.analyze_data(cleaned_data)"
   ]
  },
  {
   "cell_type": "code",
   "execution_count": null,
   "metadata": {},
   "outputs": [],
   "source": [
    "# Data Visualization\n",
    "\n",
    "data_analysis.generate_figures(analysis_results)\n",
    "# Additional plotting code can go here\n",
    "plt.show()  # Make sure to call plt.show() to display the plots in the notebook"
   ]
  },
  {
   "cell_type": "code",
   "execution_count": null,
   "metadata": {},
   "outputs": [],
   "source": [
    "import yfinance as yf\n",
    "\n",
    "# Replace 'AAPL' with the ticker symbol of the company you're interested in\n",
    "ticker = 'AAPL'\n",
    "stock = yf.Ticker(ticker)\n",
    "\n",
    "# Get balance sheet data\n",
    "balance_sheet = stock.balance_sheet\n",
    "data_top_balance_sheet = balance_sheet.head()\n",
    "# print(data_top_balance_sheet)\n",
    "\n",
    "financials = stock.financials\n",
    "data_top_financials = financials.head()\n",
    "# print(data_top_financials)\n",
    "\n",
    "financialData = stock.financialData\n",
    "data_top_financialData = financialData.head()\n",
    "print(data_top_financialData)\n",
    "\n",
    "\n",
    "# # Extract total liabilities and total equity\n",
    "# total_liabilities = balance_sheet.loc['Total Liab'][0]\n",
    "# total_equity = balance_sheet.loc['Total Stockholder Equity'][0]\n",
    "\n",
    "# # Calculate the Debt-to-Equity Ratio\n",
    "# de_ratio = total_liabilities / total_equity\n",
    "# print(f\"The Debt-to-Equity Ratio for {ticker} is: {de_ratio:.2f}\")"
   ]
  },
  {
   "cell_type": "code",
   "execution_count": null,
   "metadata": {},
   "outputs": [],
   "source": [
    "import yfinance as yf\n",
    "ticker = yf.Ticker('AAPL')\n",
    "stock_info = ticker.fast_info\n",
    "stock_info.keys()"
   ]
  },
  {
   "cell_type": "code",
   "execution_count": null,
   "metadata": {},
   "outputs": [],
   "source": [
    "# operation margin\n",
    "\n",
    "import yfinance as yf\n",
    "\n",
    "# Replace 'AAPL' with the ticker symbol of the company you're interested in\n",
    "ticker_symbol = 'AAPL'\n",
    "\n",
    "# Fetch the company's data\n",
    "company = yf.Ticker(ticker_symbol)\n",
    "\n",
    "# Fetch the income statement\n",
    "income_statement = company.financials\n",
    "\n",
    "# Extract operating income and revenue\n",
    "operating_income = income_statement.loc['Operating Income',:].iloc[0]  # Most recent year\n",
    "revenue = income_statement.loc['Total Revenue',:].iloc[0]  # Most recent year\n",
    "\n",
    "# Calculate operating margin\n",
    "operating_margin = (operating_income / revenue) * 100\n",
    "\n",
    "print(f\"The Operating Margin for {ticker_symbol} is: {operating_margin:.2f}%\")\n"
   ]
  },
  {
   "cell_type": "code",
   "execution_count": null,
   "metadata": {},
   "outputs": [],
   "source": [
    "import yfinance as yf\n",
    "\n",
    "# Replace 'AAPL' with the ticker of the company you're interested in\n",
    "ticker_symbol = 'AAPL'\n",
    "\n",
    "# Fetch the company data\n",
    "company = yf.Ticker(ticker_symbol)\n",
    "\n",
    "# Fetch the annual financials\n",
    "financials = company.financials\n",
    "balance_sheet = company.balance_sheet\n",
    "\n",
    "print(balance_sheet.head)\n",
    "\n",
    "# Net Income (from the last annual financials)\n",
    "net_income = financials.loc['Net Income'].iloc[0]\n",
    "\n",
    "# Shareholder Equity (from the last annual balance sheet)\n",
    "shareholder_equity = balance_sheet.loc['Total Stockholder Equity'].iloc[0]\n",
    "\n",
    "# Calculate ROE\n",
    "roe = (net_income / shareholder_equity) * 100  # Convert to percentage\n",
    "\n",
    "print(f\"Return on Equity (ROE) for {ticker_symbol}: {roe:.2f}%\")\n"
   ]
  },
  {
   "cell_type": "code",
   "execution_count": null,
   "metadata": {},
   "outputs": [],
   "source": []
  }
 ],
 "metadata": {
  "kernelspec": {
   "display_name": "Python 3",
   "language": "python",
   "name": "python3"
  },
  "language_info": {
   "codemirror_mode": {
    "name": "ipython",
    "version": 3
   },
   "file_extension": ".py",
   "mimetype": "text/x-python",
   "name": "python",
   "nbconvert_exporter": "python",
   "pygments_lexer": "ipython3",
   "version": "3.9.12"
  }
 },
 "nbformat": 4,
 "nbformat_minor": 2
}
