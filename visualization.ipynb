{
 "cells": [
  {
   "cell_type": "code",
   "execution_count": 1,
   "metadata": {},
   "outputs": [],
   "source": [
    "# Setup and Imports\n",
    "import pandas as pd\n",
    "import matplotlib.pyplot as plt\n",
    "\n",
    "# Import custom modules\n",
    "import data_loading\n",
    "import data_cleaning\n",
    "import data_analysis"
   ]
  },
  {
   "cell_type": "code",
   "execution_count": null,
   "metadata": {},
   "outputs": [],
   "source": [
    "from BEAclient import BureauEconomicAnalysisClient\n",
    "from data_loading import BEADataRetriever\n",
    "\n",
    "# Initialize the BEA Data Retriever\n",
    "data_retriever = BEADataRetriever(api_key_file='config.txt', dump_directory='BEA/responses')\n",
    "\n",
    "# # Grab the Dataset List\n",
    "# data_retriever.get_dataset_list()\n",
    "\n",
    "# # Grab the Paramters List\n",
    "# data_retriever.get_parameters_list(dataset_name=\"Regional\")\n",
    "\n",
    "# Retrieve and save data\n",
    "data_retriever.get_gdp_by_industry()\n",
    "data_retriever.get_national_income_and_product_accounts()\n",
    "data_retriever.get_national_income_and_product_accounts_detail()\n",
    "data_retriever.get_fixed_assets()\n",
    "data_retriever.get_direct_investments_and_multinational_enterprises()\n",
    "data_retriever.get_activities_investments_and_multinational_enterprises()\n",
    "data_retriever.get_international_transactions()\n",
    "data_retriever.get_international_investments_positions()\n",
    "data_retriever.get_input_output_statistics()\n",
    "data_retriever.get_underlying_gdp_by_industry()\n",
    "data_retriever.get_international_trade_services()\n",
    "data_retriever.get_regional_data()"
   ]
  },
  {
   "cell_type": "code",
   "execution_count": null,
   "metadata": {},
   "outputs": [],
   "source": [
    "# # Load the API keys from config.txt\n",
    "# def load_api_keys(filepath='config.txt'):\n",
    "#     api_keys = {}\n",
    "#     with open(filepath, 'r') as file:\n",
    "#         for line in file:\n",
    "#             if '=' in line:\n",
    "#                 key, value = line.strip().split('=')\n",
    "#                 api_keys[key] = value\n",
    "#     return api_keys\n",
    "\n",
    "# # Load the API keys\n",
    "# api_keys = load_api_keys()\n",
    "\n",
    "# # Access the API keys\n",
    "# BEA_API_KEY = api_keys.get('BEA_API_KEY')\n",
    "# BLS_API_KEY = api_keys.get('BLS_API_KEY')"
   ]
  },
  {
   "cell_type": "code",
   "execution_count": null,
   "metadata": {},
   "outputs": [],
   "source": []
  },
  {
   "cell_type": "code",
   "execution_count": null,
   "metadata": {},
   "outputs": [],
   "source": []
  },
  {
   "cell_type": "code",
   "execution_count": null,
   "metadata": {},
   "outputs": [],
   "source": []
  },
  {
   "cell_type": "code",
   "execution_count": null,
   "metadata": {},
   "outputs": [],
   "source": [
    "import yfinance as yf\n",
    "\n",
    "# Replace 'AAPL' with the ticker symbol of the company you're interested in\n",
    "ticker = 'AAPL'\n",
    "stock = yf.Ticker(ticker)\n",
    "\n",
    "# Get balance sheet data\n",
    "balance_sheet = stock.balance_sheet\n",
    "data_top_balance_sheet = balance_sheet.head()\n",
    "# print(data_top_balance_sheet)\n",
    "\n",
    "financials = stock.financials\n",
    "data_top_financials = financials.head()\n",
    "# print(data_top_financials)\n",
    "\n",
    "financialData = stock.financialData\n",
    "data_top_financialData = financialData.head()\n",
    "print(data_top_financialData)\n",
    "\n",
    "\n",
    "# # Extract total liabilities and total equity\n",
    "# total_liabilities = balance_sheet.loc['Total Liab'][0]\n",
    "# total_equity = balance_sheet.loc['Total Stockholder Equity'][0]\n",
    "\n",
    "# # Calculate the Debt-to-Equity Ratio\n",
    "# de_ratio = total_liabilities / total_equity\n",
    "# print(f\"The Debt-to-Equity Ratio for {ticker} is: {de_ratio:.2f}\")"
   ]
  },
  {
   "cell_type": "code",
   "execution_count": null,
   "metadata": {},
   "outputs": [],
   "source": [
    "import yfinance as yf\n",
    "ticker = yf.Ticker('AAPL')\n",
    "stock_info = ticker.fast_info\n",
    "stock_info.keys()"
   ]
  },
  {
   "cell_type": "code",
   "execution_count": null,
   "metadata": {},
   "outputs": [],
   "source": [
    "# operation margin\n",
    "\n",
    "import yfinance as yf\n",
    "\n",
    "# Replace 'AAPL' with the ticker symbol of the company you're interested in\n",
    "ticker_symbol = 'AAPL'\n",
    "\n",
    "# Fetch the company's data\n",
    "company = yf.Ticker(ticker_symbol)\n",
    "\n",
    "# Fetch the income statement\n",
    "income_statement = company.financials\n",
    "\n",
    "# Extract operating income and revenue\n",
    "operating_income = income_statement.loc['Operating Income',:].iloc[0]  # Most recent year\n",
    "revenue = income_statement.loc['Total Revenue',:].iloc[0]  # Most recent year\n",
    "\n",
    "# Calculate operating margin\n",
    "operating_margin = (operating_income / revenue) * 100\n",
    "\n",
    "print(f\"The Operating Margin for {ticker_symbol} is: {operating_margin:.2f}%\")\n"
   ]
  },
  {
   "cell_type": "code",
   "execution_count": null,
   "metadata": {},
   "outputs": [],
   "source": [
    "import yfinance as yf\n",
    "\n",
    "# Replace 'AAPL' with the ticker of the company you're interested in\n",
    "ticker_symbol = 'AAPL'\n",
    "\n",
    "# Fetch the company data\n",
    "company = yf.Ticker(ticker_symbol)\n",
    "\n",
    "# Fetch the annual financials\n",
    "financials = company.financials\n",
    "balance_sheet = company.balance_sheet\n",
    "\n",
    "print(balance_sheet.head)\n",
    "\n",
    "# Net Income (from the last annual financials)\n",
    "net_income = financials.loc['Net Income'].iloc[0]\n",
    "\n",
    "# Shareholder Equity (from the last annual balance sheet)\n",
    "shareholder_equity = balance_sheet.loc['Total Stockholder Equity'].iloc[0]\n",
    "\n",
    "# Calculate ROE\n",
    "roe = (net_income / shareholder_equity) * 100  # Convert to percentage\n",
    "\n",
    "print(f\"Return on Equity (ROE) for {ticker_symbol}: {roe:.2f}%\")\n"
   ]
  },
  {
   "cell_type": "code",
   "execution_count": null,
   "metadata": {},
   "outputs": [],
   "source": []
  },
  {
   "cell_type": "code",
   "execution_count": null,
   "metadata": {},
   "outputs": [],
   "source": []
  }
 ],
 "metadata": {
  "kernelspec": {
   "display_name": "Python 3",
   "language": "python",
   "name": "python3"
  },
  "language_info": {
   "codemirror_mode": {
    "name": "ipython",
    "version": 3
   },
   "file_extension": ".py",
   "mimetype": "text/x-python",
   "name": "python",
   "nbconvert_exporter": "python",
   "pygments_lexer": "ipython3",
   "version": "3.9.12"
  }
 },
 "nbformat": 4,
 "nbformat_minor": 2
}
